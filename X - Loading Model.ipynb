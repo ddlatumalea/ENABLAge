{
 "cells": [
  {
   "cell_type": "markdown",
   "id": "d0b04e0f",
   "metadata": {},
   "source": [
    "# Notes\n",
    "This is already taking me 2 hours\n",
    "- Authors did not create requirements.txt and did not write down package versions.\n",
    "- XGBoost version is 0.90\n",
    "\n",
    "Features used in this model (NHANES dataset, ENABL AGE-Q):\n",
    "- Age \n",
    "    - (DEMOGRAPH, RIDAGEYR, 80+ is coded as 80)\n",
    "    - **DEMO_H** \n",
    "- Systolic blood pressure \n",
    "    - (EXAM, BPXSY1, BPXSY2, BPXSY3, BPXSY4)\n",
    "    - **BPX_H**\n",
    "- Arm Circumference \n",
    "    - (EXAM, BMIARMC)\n",
    "    - **BMX_H**\n",
    "- Ratio of family income to poverty  \n",
    "    - (DEMO,  INDFMPIR)\n",
    "    - **DEMO_H**\n",
    "- General health condition \n",
    "    - (Q, HSD010)\n",
    "    - **HSQ_H**\n",
    "- Number of months working in the main job \n",
    "    - (Q, OCD270)\n",
    "    - **OCQ_H**\n",
    "- Sex \n",
    "    - (DEMOGRAPHS, RIAGENDR)\n",
    "    - **DEMO_H**\n",
    "- Education Level - Adults 20+ \n",
    "    - (DEMO, DMDEDUC2/DMDEDUC3)\n",
    "    - **DEMO_H**\n",
    "- Require special healthcare equipment \n",
    "    - (Q, PFQ033)\n",
    "    - **PFQ_H**\n",
    "- Self-reported greatest weight \n",
    "    - (Q, WHD140)\n",
    "    - **WHQ_H**\n",
    "- Avg # alcoholic drinks/day - past 12 months \n",
    "    - (Q, ALQ130)\n",
    "    - **ALQ_H**\n",
    "- Smoked at least 100 cigarettes in life \n",
    "    - (Q, SMQ020)\n",
    "    - **SMQ_H**\n",
    "- Shortness of breath on stairs/inclines \n",
    "    - (Q, CDQ010)\n",
    "    - **CDQ_H**\n",
    "- Marital Status - Widowd \n",
    "    - (DEMO DMDMARTL)\n",
    "    - **DEMO_H**\n",
    "- Number of rooms in home \n",
    "    - (Q, HOD050)\n",
    "    - **HOQ_H**\n",
    "- Diastolic blood pressure \n",
    "    - (EXAM, BPXDI1, BPXDI2, BPXDI3, BPXDI4)\n",
    "    - **BPX_H**\n",
    "- Self-reported weight-age 25, \n",
    "    - (Q, WHD120)\n",
    "    - **WHQ_H**\n",
    "- Duration of longest job \n",
    "    - (Q, OCD395)\n",
    "    - **OCQ_H**\n",
    "- Race - Non-Hispanic White \n",
    "    - (DEMO, RIDRETH1/RIDRETH3)\n",
    "    - **DEMO_H**\n",
    "- Not a citizen of the US \n",
    "    - (DEMO, DMDCITZN)\n",
    "    - **DEMO_H**"
   ]
  },
  {
   "cell_type": "code",
   "execution_count": 1,
   "id": "ee860896",
   "metadata": {},
   "outputs": [],
   "source": [
    "import pickle\n",
    "import glob\n",
    "\n",
    "import pandas as pd\n",
    "import numpy as np\n"
   ]
  },
  {
   "cell_type": "code",
   "execution_count": 2,
   "id": "02089b22",
   "metadata": {},
   "outputs": [
    {
     "data": {
      "text/plain": [
       "'0.90'"
      ]
     },
     "execution_count": 2,
     "metadata": {},
     "output_type": "execute_result"
    }
   ],
   "source": [
    "import xgboost\n",
    "\n",
    "xgboost.__version__"
   ]
  },
  {
   "cell_type": "markdown",
   "id": "e9575435",
   "metadata": {},
   "source": [
    "### Convert data"
   ]
  },
  {
   "cell_type": "code",
   "execution_count": 3,
   "id": "5f85e598",
   "metadata": {},
   "outputs": [],
   "source": [
    "# Convert data\n",
    "import xport\n",
    "\n",
    "xpt_paths = glob.glob('data/*.XPT')\n",
    "\n",
    "for path in xpt_paths:\n",
    "    with open(path, 'rb') as xpt_file:\n",
    "        reader = xport.XportReader(xpt_file)\n",
    "        save_path = path.replace('XPT', 'csv')\n",
    "        reader.to_csv(save_path, index=False)"
   ]
  },
  {
   "cell_type": "markdown",
   "id": "1470abba",
   "metadata": {},
   "source": [
    "### Load model"
   ]
  },
  {
   "cell_type": "code",
   "execution_count": 4,
   "id": "6547b306",
   "metadata": {},
   "outputs": [],
   "source": [
    "# Load moel\n",
    "model_path = 'models/NHANES_All-cause-Ques_Top20_features_model.pickle.dat'\n",
    "model = pickle.load(open(model_path, 'rb'))"
   ]
  },
  {
   "cell_type": "code",
   "execution_count": 5,
   "id": "3945fa0f",
   "metadata": {},
   "outputs": [
    {
     "data": {
      "text/plain": [
       "XGBRegressor(learning_rate=0.01, max_depth=5, missing=nan, n_estimators=10000,\n",
       "             objective='survival:cox', subsample=0.5)"
      ]
     },
     "execution_count": 5,
     "metadata": {},
     "output_type": "execute_result"
    }
   ],
   "source": [
    "model"
   ]
  },
  {
   "cell_type": "markdown",
   "id": "d7c3fe16",
   "metadata": {},
   "source": [
    "### Load data"
   ]
  },
  {
   "cell_type": "code",
   "execution_count": 6,
   "id": "6c8c47bc",
   "metadata": {},
   "outputs": [
    {
     "data": {
      "text/plain": [
       "['data\\\\ALQ_H.csv',\n",
       " 'data\\\\BMX_H.csv',\n",
       " 'data\\\\BPX_H.csv',\n",
       " 'data\\\\CDQ_G.csv',\n",
       " 'data\\\\CDQ_H.csv',\n",
       " 'data\\\\DEMO_H.csv',\n",
       " 'data\\\\HOQ_H.csv',\n",
       " 'data\\\\HSQ_H.csv',\n",
       " 'data\\\\OCQ_H.csv',\n",
       " 'data\\\\PFQ_H.csv',\n",
       " 'data\\\\SMQ_H.csv',\n",
       " 'data\\\\WHQ_H.csv']"
      ]
     },
     "execution_count": 6,
     "metadata": {},
     "output_type": "execute_result"
    }
   ],
   "source": [
    "glob.glob('data/*.csv')"
   ]
  },
  {
   "cell_type": "code",
   "execution_count": 7,
   "id": "fac5c9dc",
   "metadata": {},
   "outputs": [],
   "source": [
    "# Load data\n",
    "alcohol = pd.read_csv('data/ALQ_H.csv', index_col=0)\n",
    "demographics = pd.read_csv('data/DEMO_H.csv', index_col=0)\n",
    "body_measures = pd.read_csv('data/BMX_H.csv', index_col=0)\n",
    "blood_pressure = pd.read_csv('data/BPX_H.csv', index_col=0)\n",
    "cardiovascular = pd.read_csv('data/CDQ_H.csv', index_col=0)\n",
    "housing = pd.read_csv('data/HOQ_H.csv', index_col=0)\n",
    "current_health = pd.read_csv('data/HSQ_H.csv', index_col=0)\n",
    "occupation = pd.read_csv('data/OCQ_H.csv', index_col=0)\n",
    "physical = pd.read_csv('data/PFQ_H.csv', index_col=0)\n",
    "smoking = pd.read_csv('data/SMQ_H.csv', index_col=0)\n",
    "weight_hist = pd.read_csv('data/WHQ_H.csv', index_col=0)"
   ]
  },
  {
   "cell_type": "code",
   "execution_count": 8,
   "id": "ea9624f3",
   "metadata": {},
   "outputs": [],
   "source": [
    "# Get variables\n",
    "age = demographics.loc[:, 'RIDAGEYR']\n",
    "sys_blood = blood_pressure.loc[:, 'BPXSY1']\n",
    "arm_c = body_measures.loc[:, 'BMIARMC']\n",
    "ratio_income_poverty = demographics.loc[:, 'INDFMPIR']\n",
    "general_health = current_health.loc[:, 'HSD010']\n",
    "months_main_job = occupation.loc[:, 'OCD270']\n",
    "sex = demographics.loc[:, 'RIAGENDR']\n",
    "education = demographics.loc[:, 'DMDEDUC2']\n",
    "spec_equip = physical.loc[:, 'PFQ033']\n",
    "greatest_weight = weight_hist.loc[:, 'WHD140']\n",
    "avg_alc = alcohol.loc[:, 'ALQ130']\n",
    "cigs = smoking.loc[:, 'SMQ020']\n",
    "breath = cardiovascular.loc[:, 'CDQ010']\n",
    "married = demographics.loc[:, 'DMDMARTL']\n",
    "rooms = housing.loc[:, 'HOD050']\n",
    "dias_blood = blood_pressure.loc[:, 'BPXDI1']\n",
    "weight_25 = weight_hist.loc[:, 'WHD120']\n",
    "longest_job = occupation.loc[:, 'OCD395']\n",
    "race = demographics.loc[:, 'RIDRETH1']\n",
    "us_citizen = demographics.loc[:, 'DMDCITZN']"
   ]
  },
  {
   "cell_type": "code",
   "execution_count": 9,
   "id": "9f982320",
   "metadata": {},
   "outputs": [
    {
     "data": {
      "text/html": [
       "<div>\n",
       "<style scoped>\n",
       "    .dataframe tbody tr th:only-of-type {\n",
       "        vertical-align: middle;\n",
       "    }\n",
       "\n",
       "    .dataframe tbody tr th {\n",
       "        vertical-align: top;\n",
       "    }\n",
       "\n",
       "    .dataframe thead th {\n",
       "        text-align: right;\n",
       "    }\n",
       "</style>\n",
       "<table border=\"1\" class=\"dataframe\">\n",
       "  <thead>\n",
       "    <tr style=\"text-align: right;\">\n",
       "      <th></th>\n",
       "      <th>RIDAGEYR</th>\n",
       "      <th>BPXSY1</th>\n",
       "      <th>BMIARMC</th>\n",
       "      <th>INDFMPIR</th>\n",
       "      <th>HSD010</th>\n",
       "      <th>OCD270</th>\n",
       "      <th>RIAGENDR</th>\n",
       "      <th>DMDEDUC2</th>\n",
       "      <th>PFQ033</th>\n",
       "      <th>WHD140</th>\n",
       "      <th>ALQ130</th>\n",
       "      <th>SMQ020</th>\n",
       "      <th>CDQ010</th>\n",
       "      <th>DMDMARTL</th>\n",
       "      <th>HOD050</th>\n",
       "      <th>BPXDI1</th>\n",
       "      <th>WHD120</th>\n",
       "      <th>OCD395</th>\n",
       "      <th>RIDRETH1</th>\n",
       "      <th>DMDCITZN</th>\n",
       "    </tr>\n",
       "    <tr>\n",
       "      <th>SEQN</th>\n",
       "      <th></th>\n",
       "      <th></th>\n",
       "      <th></th>\n",
       "      <th></th>\n",
       "      <th></th>\n",
       "      <th></th>\n",
       "      <th></th>\n",
       "      <th></th>\n",
       "      <th></th>\n",
       "      <th></th>\n",
       "      <th></th>\n",
       "      <th></th>\n",
       "      <th></th>\n",
       "      <th></th>\n",
       "      <th></th>\n",
       "      <th></th>\n",
       "      <th></th>\n",
       "      <th></th>\n",
       "      <th></th>\n",
       "      <th></th>\n",
       "    </tr>\n",
       "  </thead>\n",
       "  <tbody>\n",
       "    <tr>\n",
       "      <th>73557.0</th>\n",
       "      <td>69.0</td>\n",
       "      <td>122.0</td>\n",
       "      <td>NaN</td>\n",
       "      <td>0.84</td>\n",
       "      <td>2.0</td>\n",
       "      <td>NaN</td>\n",
       "      <td>1.0</td>\n",
       "      <td>3.0</td>\n",
       "      <td>NaN</td>\n",
       "      <td>270.0</td>\n",
       "      <td>1.0</td>\n",
       "      <td>1.0</td>\n",
       "      <td>2.0</td>\n",
       "      <td>4.0</td>\n",
       "      <td>4.0</td>\n",
       "      <td>72.0</td>\n",
       "      <td>200.0</td>\n",
       "      <td>204.0</td>\n",
       "      <td>4.0</td>\n",
       "      <td>1.0</td>\n",
       "    </tr>\n",
       "    <tr>\n",
       "      <th>73558.0</th>\n",
       "      <td>54.0</td>\n",
       "      <td>156.0</td>\n",
       "      <td>NaN</td>\n",
       "      <td>1.78</td>\n",
       "      <td>4.0</td>\n",
       "      <td>420.0</td>\n",
       "      <td>1.0</td>\n",
       "      <td>3.0</td>\n",
       "      <td>NaN</td>\n",
       "      <td>250.0</td>\n",
       "      <td>4.0</td>\n",
       "      <td>1.0</td>\n",
       "      <td>2.0</td>\n",
       "      <td>1.0</td>\n",
       "      <td>7.0</td>\n",
       "      <td>62.0</td>\n",
       "      <td>250.0</td>\n",
       "      <td>NaN</td>\n",
       "      <td>3.0</td>\n",
       "      <td>1.0</td>\n",
       "    </tr>\n",
       "    <tr>\n",
       "      <th>73559.0</th>\n",
       "      <td>72.0</td>\n",
       "      <td>140.0</td>\n",
       "      <td>NaN</td>\n",
       "      <td>4.51</td>\n",
       "      <td>3.0</td>\n",
       "      <td>NaN</td>\n",
       "      <td>1.0</td>\n",
       "      <td>4.0</td>\n",
       "      <td>NaN</td>\n",
       "      <td>228.0</td>\n",
       "      <td>NaN</td>\n",
       "      <td>1.0</td>\n",
       "      <td>2.0</td>\n",
       "      <td>1.0</td>\n",
       "      <td>6.0</td>\n",
       "      <td>90.0</td>\n",
       "      <td>190.0</td>\n",
       "      <td>216.0</td>\n",
       "      <td>3.0</td>\n",
       "      <td>1.0</td>\n",
       "    </tr>\n",
       "  </tbody>\n",
       "</table>\n",
       "</div>"
      ],
      "text/plain": [
       "         RIDAGEYR  BPXSY1  BMIARMC  INDFMPIR  HSD010  OCD270  RIAGENDR  \\\n",
       "SEQN                                                                     \n",
       "73557.0      69.0   122.0      NaN      0.84     2.0     NaN       1.0   \n",
       "73558.0      54.0   156.0      NaN      1.78     4.0   420.0       1.0   \n",
       "73559.0      72.0   140.0      NaN      4.51     3.0     NaN       1.0   \n",
       "\n",
       "         DMDEDUC2  PFQ033  WHD140  ALQ130  SMQ020  CDQ010  DMDMARTL  HOD050  \\\n",
       "SEQN                                                                          \n",
       "73557.0       3.0     NaN   270.0     1.0     1.0     2.0       4.0     4.0   \n",
       "73558.0       3.0     NaN   250.0     4.0     1.0     2.0       1.0     7.0   \n",
       "73559.0       4.0     NaN   228.0     NaN     1.0     2.0       1.0     6.0   \n",
       "\n",
       "         BPXDI1  WHD120  OCD395  RIDRETH1  DMDCITZN  \n",
       "SEQN                                                 \n",
       "73557.0    72.0   200.0   204.0       4.0       1.0  \n",
       "73558.0    62.0   250.0     NaN       3.0       1.0  \n",
       "73559.0    90.0   190.0   216.0       3.0       1.0  "
      ]
     },
     "execution_count": 9,
     "metadata": {},
     "output_type": "execute_result"
    }
   ],
   "source": [
    "# Look for some examples by intersection\n",
    "samples = pd.concat([\n",
    "    age, sys_blood, arm_c,\n",
    "    ratio_income_poverty, general_health,\n",
    "    months_main_job, sex, education, \n",
    "    spec_equip, greatest_weight, avg_alc,\n",
    "    cigs, breath, married, rooms, dias_blood,\n",
    "    weight_25, longest_job, race, us_citizen\n",
    "], axis=1)\n",
    "\n",
    "samples.head(3)"
   ]
  },
  {
   "cell_type": "code",
   "execution_count": 10,
   "id": "4d26fe47",
   "metadata": {},
   "outputs": [
    {
     "data": {
      "text/plain": [
       "RIDAGEYR    float64\n",
       "BPXSY1      float64\n",
       "BMIARMC     float64\n",
       "INDFMPIR    float64\n",
       "HSD010      float64\n",
       "OCD270      float64\n",
       "RIAGENDR    float64\n",
       "DMDEDUC2    float64\n",
       "PFQ033      float64\n",
       "WHD140      float64\n",
       "ALQ130      float64\n",
       "SMQ020      float64\n",
       "CDQ010      float64\n",
       "DMDMARTL    float64\n",
       "HOD050      float64\n",
       "BPXDI1      float64\n",
       "WHD120      float64\n",
       "OCD395      float64\n",
       "RIDRETH1    float64\n",
       "DMDCITZN    float64\n",
       "dtype: object"
      ]
     },
     "execution_count": 10,
     "metadata": {},
     "output_type": "execute_result"
    }
   ],
   "source": [
    "samples.dtypes"
   ]
  },
  {
   "cell_type": "code",
   "execution_count": 11,
   "id": "10100b45",
   "metadata": {},
   "outputs": [
    {
     "data": {
      "text/plain": [
       "76119.0"
      ]
     },
     "execution_count": 11,
     "metadata": {},
     "output_type": "execute_result"
    }
   ],
   "source": [
    "samples.isna().sum(axis=1).idxmin()"
   ]
  },
  {
   "cell_type": "code",
   "execution_count": 12,
   "id": "16496ad8",
   "metadata": {},
   "outputs": [],
   "source": [
    "example = samples.loc[76119.0, :]"
   ]
  },
  {
   "cell_type": "code",
   "execution_count": 13,
   "id": "5baf5e2f",
   "metadata": {},
   "outputs": [],
   "source": [
    "# Fill with 0 as probably no special equipment needed\n",
    "example = example.fillna(0)"
   ]
  },
  {
   "cell_type": "code",
   "execution_count": 14,
   "id": "a99f558e",
   "metadata": {},
   "outputs": [
    {
     "data": {
      "text/plain": [
       "{'base_score': 0.5,\n",
       " 'booster': 'gbtree',\n",
       " 'colsample_bylevel': 1,\n",
       " 'colsample_bynode': 1,\n",
       " 'colsample_bytree': 1,\n",
       " 'gamma': 0,\n",
       " 'importance_type': 'gain',\n",
       " 'learning_rate': 0.01,\n",
       " 'max_delta_step': 0,\n",
       " 'max_depth': 5,\n",
       " 'min_child_weight': 1,\n",
       " 'missing': nan,\n",
       " 'n_estimators': 10000,\n",
       " 'n_jobs': 1,\n",
       " 'nthread': None,\n",
       " 'objective': 'survival:cox',\n",
       " 'random_state': 0,\n",
       " 'reg_alpha': 0,\n",
       " 'reg_lambda': 1,\n",
       " 'scale_pos_weight': 1,\n",
       " 'seed': None,\n",
       " 'silent': None,\n",
       " 'subsample': 0.5,\n",
       " 'verbosity': 1}"
      ]
     },
     "execution_count": 14,
     "metadata": {},
     "output_type": "execute_result"
    }
   ],
   "source": [
    "model.get_params()"
   ]
  },
  {
   "cell_type": "code",
   "execution_count": 39,
   "id": "770c120d",
   "metadata": {},
   "outputs": [],
   "source": [
    "from xgboost.sklearn import XGBRegressor"
   ]
  },
  {
   "cell_type": "code",
   "execution_count": null,
   "id": "02830597",
   "metadata": {},
   "outputs": [],
   "source": []
  },
  {
   "cell_type": "code",
   "execution_count": 35,
   "id": "d993ad78",
   "metadata": {},
   "outputs": [
    {
     "data": {
      "text/plain": [
       "xgboost.sklearn.XGBRegressor"
      ]
     },
     "execution_count": 35,
     "metadata": {},
     "output_type": "execute_result"
    }
   ],
   "source": [
    "type(model)"
   ]
  },
  {
   "cell_type": "code",
   "execution_count": 16,
   "id": "abfa733d",
   "metadata": {},
   "outputs": [],
   "source": [
    "mapping = {\n",
    "    \"DMDCITZN\":\"Demographics_Citizenship_2.0\", \n",
    "    \"CDQ010\":\"Questionnaire_ShortnessOfBreath_2.0\", \n",
    "    \"RIAGENDR\":\"Demographics_Gender_2.0\", \n",
    "    \"DMDEDUC2\":\"Demographics_Education\", \n",
    "    \"OCD270\":\"Questionnaire_JobMonths\", \n",
    "    \"HOD050\":\"Questionnaire_RoomsInHome\", \n",
    "    \"WHD120\":\"Questionnaire_SelfReportedWeightAge25\", \n",
    "    \"DMDMARTL\":\"Demographics_MaritalStatus_2.0\", \n",
    "    \"RIDAGEYR\":\"Demographics_Age\", \n",
    "    \"PFQ033\":\"Questionnaire_SpecialHealthCareEquipment_2.0\", \n",
    "    \"BPXSY1\":\"Examination_BPSystolic2\", \n",
    "    \"INDFMPIR\":\"Demographics_IncomeRatio\", \n",
    "    \"BPXDI1\":\"Examination_BPDiastolic3\",\n",
    "    \"OCD395\":\"Questionnaire_LongestJobDuration\",\n",
    "    \"ALQ130\":\"Questionnaire_AlcoholFreqDays\",\n",
    "    \"HSD010\":\"Questionnaire_GeneralHealth\", \n",
    "    \"BMIARMC\":\"Examination_ArmCircum\",\n",
    "    \"RIDRETH1\":\"Demographics_RaceEthnicity_3.0\",\n",
    "    \"WHD140\":\"Questionnaire_SelfReportedGreatestWeight\",\n",
    "    \"SMQ020\":\"Questionnaire_100Cigarettes_2.0\" \n",
    "}"
   ]
  },
  {
   "cell_type": "code",
   "execution_count": 17,
   "id": "559c8feb",
   "metadata": {},
   "outputs": [],
   "source": [
    "example.index = example.index.map(mapping)"
   ]
  },
  {
   "cell_type": "code",
   "execution_count": 18,
   "id": "225f221a",
   "metadata": {},
   "outputs": [
    {
     "data": {
      "text/plain": [
       "Demographics_Age                                 49.00\n",
       "Examination_BPSystolic2                         100.00\n",
       "Examination_ArmCircum                             1.00\n",
       "Demographics_IncomeRatio                          0.75\n",
       "Questionnaire_GeneralHealth                       3.00\n",
       "Questionnaire_JobMonths                          96.00\n",
       "Demographics_Gender_2.0                           1.00\n",
       "Demographics_Education                            4.00\n",
       "Questionnaire_SpecialHealthCareEquipment_2.0      0.00\n",
       "Questionnaire_SelfReportedGreatestWeight        215.00\n",
       "Questionnaire_AlcoholFreqDays                    12.00\n",
       "Questionnaire_100Cigarettes_2.0                   1.00\n",
       "Questionnaire_ShortnessOfBreath_2.0               2.00\n",
       "Demographics_MaritalStatus_2.0                    5.00\n",
       "Questionnaire_RoomsInHome                         7.00\n",
       "Examination_BPDiastolic3                         62.00\n",
       "Questionnaire_SelfReportedWeightAge25           160.00\n",
       "Questionnaire_LongestJobDuration                240.00\n",
       "Demographics_RaceEthnicity_3.0                    4.00\n",
       "Demographics_Citizenship_2.0                      1.00\n",
       "Name: 76119.0, dtype: float64"
      ]
     },
     "execution_count": 18,
     "metadata": {},
     "output_type": "execute_result"
    }
   ],
   "source": [
    "example"
   ]
  },
  {
   "cell_type": "code",
   "execution_count": 19,
   "id": "60682ec2",
   "metadata": {},
   "outputs": [],
   "source": [
    "example = pd.DataFrame(example).T"
   ]
  },
  {
   "cell_type": "code",
   "execution_count": 27,
   "id": "8e85fba8",
   "metadata": {},
   "outputs": [
    {
     "data": {
      "text/html": [
       "<div>\n",
       "<style scoped>\n",
       "    .dataframe tbody tr th:only-of-type {\n",
       "        vertical-align: middle;\n",
       "    }\n",
       "\n",
       "    .dataframe tbody tr th {\n",
       "        vertical-align: top;\n",
       "    }\n",
       "\n",
       "    .dataframe thead th {\n",
       "        text-align: right;\n",
       "    }\n",
       "</style>\n",
       "<table border=\"1\" class=\"dataframe\">\n",
       "  <thead>\n",
       "    <tr style=\"text-align: right;\">\n",
       "      <th></th>\n",
       "      <th>Demographics_Age</th>\n",
       "      <th>Examination_BPSystolic2</th>\n",
       "      <th>Examination_ArmCircum</th>\n",
       "      <th>Demographics_IncomeRatio</th>\n",
       "      <th>Questionnaire_GeneralHealth</th>\n",
       "      <th>Questionnaire_JobMonths</th>\n",
       "      <th>Demographics_Gender_2.0</th>\n",
       "      <th>Demographics_Education</th>\n",
       "      <th>Questionnaire_SpecialHealthCareEquipment_2.0</th>\n",
       "      <th>Questionnaire_SelfReportedGreatestWeight</th>\n",
       "      <th>Questionnaire_AlcoholFreqDays</th>\n",
       "      <th>Questionnaire_100Cigarettes_2.0</th>\n",
       "      <th>Questionnaire_ShortnessOfBreath_2.0</th>\n",
       "      <th>Demographics_MaritalStatus_2.0</th>\n",
       "      <th>Questionnaire_RoomsInHome</th>\n",
       "      <th>Examination_BPDiastolic3</th>\n",
       "      <th>Questionnaire_SelfReportedWeightAge25</th>\n",
       "      <th>Questionnaire_LongestJobDuration</th>\n",
       "      <th>Demographics_RaceEthnicity_3.0</th>\n",
       "      <th>Demographics_Citizenship_2.0</th>\n",
       "    </tr>\n",
       "  </thead>\n",
       "  <tbody>\n",
       "    <tr>\n",
       "      <th>76119.0</th>\n",
       "      <td>49.0</td>\n",
       "      <td>100.0</td>\n",
       "      <td>1.0</td>\n",
       "      <td>0.75</td>\n",
       "      <td>3.0</td>\n",
       "      <td>96.0</td>\n",
       "      <td>1.0</td>\n",
       "      <td>4.0</td>\n",
       "      <td>0.0</td>\n",
       "      <td>215.0</td>\n",
       "      <td>12.0</td>\n",
       "      <td>1.0</td>\n",
       "      <td>2.0</td>\n",
       "      <td>5.0</td>\n",
       "      <td>7.0</td>\n",
       "      <td>62.0</td>\n",
       "      <td>160.0</td>\n",
       "      <td>240.0</td>\n",
       "      <td>4.0</td>\n",
       "      <td>1.0</td>\n",
       "    </tr>\n",
       "  </tbody>\n",
       "</table>\n",
       "</div>"
      ],
      "text/plain": [
       "         Demographics_Age  Examination_BPSystolic2  Examination_ArmCircum  \\\n",
       "76119.0              49.0                    100.0                    1.0   \n",
       "\n",
       "         Demographics_IncomeRatio  Questionnaire_GeneralHealth  \\\n",
       "76119.0                      0.75                          3.0   \n",
       "\n",
       "         Questionnaire_JobMonths  Demographics_Gender_2.0  \\\n",
       "76119.0                     96.0                      1.0   \n",
       "\n",
       "         Demographics_Education  Questionnaire_SpecialHealthCareEquipment_2.0  \\\n",
       "76119.0                     4.0                                           0.0   \n",
       "\n",
       "         Questionnaire_SelfReportedGreatestWeight  \\\n",
       "76119.0                                     215.0   \n",
       "\n",
       "         Questionnaire_AlcoholFreqDays  Questionnaire_100Cigarettes_2.0  \\\n",
       "76119.0                           12.0                              1.0   \n",
       "\n",
       "         Questionnaire_ShortnessOfBreath_2.0  Demographics_MaritalStatus_2.0  \\\n",
       "76119.0                                  2.0                             5.0   \n",
       "\n",
       "         Questionnaire_RoomsInHome  Examination_BPDiastolic3  \\\n",
       "76119.0                        7.0                      62.0   \n",
       "\n",
       "         Questionnaire_SelfReportedWeightAge25  \\\n",
       "76119.0                                  160.0   \n",
       "\n",
       "         Questionnaire_LongestJobDuration  Demographics_RaceEthnicity_3.0  \\\n",
       "76119.0                             240.0                             4.0   \n",
       "\n",
       "         Demographics_Citizenship_2.0  \n",
       "76119.0                           1.0  "
      ]
     },
     "execution_count": 27,
     "metadata": {},
     "output_type": "execute_result"
    }
   ],
   "source": [
    "order = ['Demographics_Age', 'Examination_BPSystolic2', 'Examination_ArmCircum', 'Demographics_IncomeRatio', 'Questionnaire_GeneralHealth', 'Questionnaire_JobMonths', 'Demographics_Gender_2.0', 'Demographics_Education', 'Questionnaire_SpecialHealthCareEquipment_2.0', 'Questionnaire_SelfReportedGreatestWeight', 'Questionnaire_AlcoholFreqDays', 'Questionnaire_100Cigarettes_2.0', 'Questionnaire_ShortnessOfBreath_2.0', 'Demographics_MaritalStatus_2.0', 'Questionnaire_RoomsInHome', 'Examination_BPDiastolic3', 'Questionnaire_SelfReportedWeightAge25', 'Questionnaire_LongestJobDuration', 'Demographics_RaceEthnicity_3.0', 'Demographics_Citizenship_2.0']\n",
    "example = example[order]\n",
    "example"
   ]
  },
  {
   "cell_type": "code",
   "execution_count": 28,
   "id": "378070fd",
   "metadata": {},
   "outputs": [
    {
     "data": {
      "text/plain": [
       "array([1.7734985], dtype=float32)"
      ]
     },
     "execution_count": 28,
     "metadata": {},
     "output_type": "execute_result"
    }
   ],
   "source": [
    "model.predict(example)"
   ]
  },
  {
   "cell_type": "code",
   "execution_count": 29,
   "id": "0aea6e7f",
   "metadata": {},
   "outputs": [
    {
     "ename": "AttributeError",
     "evalue": "'XGBRegressor' object has no attribute 'get_shap_age'",
     "output_type": "error",
     "traceback": [
      "\u001b[1;31m---------------------------------------------------------------------------\u001b[0m",
      "\u001b[1;31mAttributeError\u001b[0m                            Traceback (most recent call last)",
      "\u001b[1;32m~\\AppData\\Local\\Temp\\ipykernel_10880\\4192653328.py\u001b[0m in \u001b[0;36m<module>\u001b[1;34m\u001b[0m\n\u001b[1;32m----> 1\u001b[1;33m \u001b[0mmodel\u001b[0m\u001b[1;33m.\u001b[0m\u001b[0mget_shap_age\u001b[0m\u001b[1;33m(\u001b[0m\u001b[0mexample\u001b[0m\u001b[1;33m)\u001b[0m\u001b[1;33m\u001b[0m\u001b[1;33m\u001b[0m\u001b[0m\n\u001b[0m",
      "\u001b[1;31mAttributeError\u001b[0m: 'XGBRegressor' object has no attribute 'get_shap_age'"
     ]
    }
   ],
   "source": [
    "model.get_shap_age(example)"
   ]
  },
  {
   "cell_type": "code",
   "execution_count": 31,
   "id": "0a0c7a60",
   "metadata": {},
   "outputs": [],
   "source": [
    "example.loc['test', :] = [50, 100, 38, 0.75, 3, 96, 1, 4, 0, 215, 12, 1, 2, 5, 7, 60, 160, 240, 4, 1]"
   ]
  },
  {
   "cell_type": "code",
   "execution_count": 32,
   "id": "e14eadff",
   "metadata": {},
   "outputs": [
    {
     "data": {
      "text/plain": [
       "array([1.7734985 , 0.55312353], dtype=float32)"
      ]
     },
     "execution_count": 32,
     "metadata": {},
     "output_type": "execute_result"
    }
   ],
   "source": [
    "model.predict(example)"
   ]
  },
  {
   "cell_type": "code",
   "execution_count": 33,
   "id": "7ffd0455",
   "metadata": {},
   "outputs": [
    {
     "data": {
      "text/html": [
       "<div>\n",
       "<style scoped>\n",
       "    .dataframe tbody tr th:only-of-type {\n",
       "        vertical-align: middle;\n",
       "    }\n",
       "\n",
       "    .dataframe tbody tr th {\n",
       "        vertical-align: top;\n",
       "    }\n",
       "\n",
       "    .dataframe thead th {\n",
       "        text-align: right;\n",
       "    }\n",
       "</style>\n",
       "<table border=\"1\" class=\"dataframe\">\n",
       "  <thead>\n",
       "    <tr style=\"text-align: right;\">\n",
       "      <th></th>\n",
       "      <th>Demographics_Age</th>\n",
       "      <th>Examination_BPSystolic2</th>\n",
       "      <th>Examination_ArmCircum</th>\n",
       "      <th>Demographics_IncomeRatio</th>\n",
       "      <th>Questionnaire_GeneralHealth</th>\n",
       "      <th>Questionnaire_JobMonths</th>\n",
       "      <th>Demographics_Gender_2.0</th>\n",
       "      <th>Demographics_Education</th>\n",
       "      <th>Questionnaire_SpecialHealthCareEquipment_2.0</th>\n",
       "      <th>Questionnaire_SelfReportedGreatestWeight</th>\n",
       "      <th>Questionnaire_AlcoholFreqDays</th>\n",
       "      <th>Questionnaire_100Cigarettes_2.0</th>\n",
       "      <th>Questionnaire_ShortnessOfBreath_2.0</th>\n",
       "      <th>Demographics_MaritalStatus_2.0</th>\n",
       "      <th>Questionnaire_RoomsInHome</th>\n",
       "      <th>Examination_BPDiastolic3</th>\n",
       "      <th>Questionnaire_SelfReportedWeightAge25</th>\n",
       "      <th>Questionnaire_LongestJobDuration</th>\n",
       "      <th>Demographics_RaceEthnicity_3.0</th>\n",
       "      <th>Demographics_Citizenship_2.0</th>\n",
       "    </tr>\n",
       "  </thead>\n",
       "  <tbody>\n",
       "    <tr>\n",
       "      <th>76119.0</th>\n",
       "      <td>49.0</td>\n",
       "      <td>100.0</td>\n",
       "      <td>1.0</td>\n",
       "      <td>0.75</td>\n",
       "      <td>3.0</td>\n",
       "      <td>96.0</td>\n",
       "      <td>1.0</td>\n",
       "      <td>4.0</td>\n",
       "      <td>0.0</td>\n",
       "      <td>215.0</td>\n",
       "      <td>12.0</td>\n",
       "      <td>1.0</td>\n",
       "      <td>2.0</td>\n",
       "      <td>5.0</td>\n",
       "      <td>7.0</td>\n",
       "      <td>62.0</td>\n",
       "      <td>160.0</td>\n",
       "      <td>240.0</td>\n",
       "      <td>4.0</td>\n",
       "      <td>1.0</td>\n",
       "    </tr>\n",
       "    <tr>\n",
       "      <th>test</th>\n",
       "      <td>50.0</td>\n",
       "      <td>100.0</td>\n",
       "      <td>38.0</td>\n",
       "      <td>0.75</td>\n",
       "      <td>3.0</td>\n",
       "      <td>96.0</td>\n",
       "      <td>1.0</td>\n",
       "      <td>4.0</td>\n",
       "      <td>0.0</td>\n",
       "      <td>215.0</td>\n",
       "      <td>12.0</td>\n",
       "      <td>1.0</td>\n",
       "      <td>2.0</td>\n",
       "      <td>5.0</td>\n",
       "      <td>7.0</td>\n",
       "      <td>60.0</td>\n",
       "      <td>160.0</td>\n",
       "      <td>240.0</td>\n",
       "      <td>4.0</td>\n",
       "      <td>1.0</td>\n",
       "    </tr>\n",
       "  </tbody>\n",
       "</table>\n",
       "</div>"
      ],
      "text/plain": [
       "         Demographics_Age  Examination_BPSystolic2  Examination_ArmCircum  \\\n",
       "76119.0              49.0                    100.0                    1.0   \n",
       "test                 50.0                    100.0                   38.0   \n",
       "\n",
       "         Demographics_IncomeRatio  Questionnaire_GeneralHealth  \\\n",
       "76119.0                      0.75                          3.0   \n",
       "test                         0.75                          3.0   \n",
       "\n",
       "         Questionnaire_JobMonths  Demographics_Gender_2.0  \\\n",
       "76119.0                     96.0                      1.0   \n",
       "test                        96.0                      1.0   \n",
       "\n",
       "         Demographics_Education  Questionnaire_SpecialHealthCareEquipment_2.0  \\\n",
       "76119.0                     4.0                                           0.0   \n",
       "test                        4.0                                           0.0   \n",
       "\n",
       "         Questionnaire_SelfReportedGreatestWeight  \\\n",
       "76119.0                                     215.0   \n",
       "test                                        215.0   \n",
       "\n",
       "         Questionnaire_AlcoholFreqDays  Questionnaire_100Cigarettes_2.0  \\\n",
       "76119.0                           12.0                              1.0   \n",
       "test                              12.0                              1.0   \n",
       "\n",
       "         Questionnaire_ShortnessOfBreath_2.0  Demographics_MaritalStatus_2.0  \\\n",
       "76119.0                                  2.0                             5.0   \n",
       "test                                     2.0                             5.0   \n",
       "\n",
       "         Questionnaire_RoomsInHome  Examination_BPDiastolic3  \\\n",
       "76119.0                        7.0                      62.0   \n",
       "test                           7.0                      60.0   \n",
       "\n",
       "         Questionnaire_SelfReportedWeightAge25  \\\n",
       "76119.0                                  160.0   \n",
       "test                                     160.0   \n",
       "\n",
       "         Questionnaire_LongestJobDuration  Demographics_RaceEthnicity_3.0  \\\n",
       "76119.0                             240.0                             4.0   \n",
       "test                                240.0                             4.0   \n",
       "\n",
       "         Demographics_Citizenship_2.0  \n",
       "76119.0                           1.0  \n",
       "test                              1.0  "
      ]
     },
     "execution_count": 33,
     "metadata": {},
     "output_type": "execute_result"
    }
   ],
   "source": [
    "example"
   ]
  },
  {
   "cell_type": "code",
   "execution_count": 34,
   "id": "61501248",
   "metadata": {},
   "outputs": [
    {
     "data": {
      "text/plain": [
       "XGBRegressor(learning_rate=0.01, max_depth=5, missing=nan, n_estimators=10000,\n",
       "             objective='survival:cox', subsample=0.5)"
      ]
     },
     "execution_count": 34,
     "metadata": {},
     "output_type": "execute_result"
    }
   ],
   "source": [
    "model."
   ]
  },
  {
   "cell_type": "code",
   "execution_count": null,
   "id": "4488c923",
   "metadata": {},
   "outputs": [],
   "source": []
  }
 ],
 "metadata": {
  "kernelspec": {
   "display_name": "enableage",
   "language": "python",
   "name": "enableage"
  },
  "language_info": {
   "codemirror_mode": {
    "name": "ipython",
    "version": 3
   },
   "file_extension": ".py",
   "mimetype": "text/x-python",
   "name": "python",
   "nbconvert_exporter": "python",
   "pygments_lexer": "ipython3",
   "version": "3.7.16"
  }
 },
 "nbformat": 4,
 "nbformat_minor": 5
}
